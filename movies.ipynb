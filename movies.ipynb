import pandas as pd
from sklearn.cluster import KMeans
from sklearn.feature_extraction.text import TfidfVectorizer
from sklearn.preprocessing import StandardScaler
from sklearn.metrics.pairwise import cosine_similarity
import difflib

def load_and_preprocess_data(file_path):
    df = pd.read_csv(file_path)
    
    # Selecting relevant text features
    selected_features = ['genres', 'keywords', 'tagline', 'cast', 'director']
    df[selected_features] = df[selected_features].fillna('')
    
    # Combining text features into one
    df['combined_features'] = df[selected_features].apply(lambda x: ' '.join(x), axis=1)
    
    # Vectorizing text features
    vectorizer = TfidfVectorizer()
    feature_vectors = vectorizer.fit_transform(df['combined_features'])
    
    return df, feature_vectors

def cluster_movies(feature_vectors, n_clusters=10):
    kmeans = KMeans(n_clusters=n_clusters, random_state=42, n_init=10)
    clusters = kmeans.fit_predict(feature_vectors)
    return kmeans, clusters

def recommend_movies(movie_name, df, feature_vectors, kmeans):
    list_of_all_titles = df['title'].tolist()
    find_close_match = difflib.get_close_matches(movie_name, list_of_all_titles)
    
    if not find_close_match:
        return "No close match found. Try another movie."
    
    close_match = find_close_match[0]
    movie_index = df[df.title == close_match].index[0]
    cluster_label = kmeans.predict(feature_vectors[movie_index])
    
    cluster_indices = [i for i in range(len(df)) if kmeans.labels_[i] == cluster_label]
    
    print("Movies in the same cluster:")
    return df.iloc[cluster_indices].head(10)  # Return top 10 similar movies

# Usage Example
file_path = "/content/movies (3).csv"
